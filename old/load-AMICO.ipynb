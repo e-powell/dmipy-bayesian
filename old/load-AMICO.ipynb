{
 "cells": [
  {
   "cell_type": "code",
   "execution_count": 1,
   "metadata": {},
   "outputs": [
    {
     "name": "stderr",
     "output_type": "stream",
     "text": [
      "/Users/paddyslator/anaconda/lib/python3.5/site-packages/h5py/__init__.py:36: FutureWarning: Conversion of the second argument of issubdtype from `float` to `np.floating` is deprecated. In future, it will be treated as `np.float64 == np.dtype(float).type`.\n",
      "  from ._conv import register_converters as _register_converters\n"
     ]
    }
   ],
   "source": [
    "import nibabel as nib\n",
    "import numpy as np\n",
    "import glob"
   ]
  },
  {
   "cell_type": "code",
   "execution_count": 2,
   "metadata": {},
   "outputs": [],
   "source": [
    "datadir='/Users/paddyslator/OneDrive - University College London/data/bayes-dmipy-paddy/AMICO/NODDI'"
   ]
  },
  {
   "cell_type": "code",
   "execution_count": 3,
   "metadata": {},
   "outputs": [],
   "source": [
    "#load the AMICO masks\n",
    "fibdir = nib.load(datadir + '/FIT_dir.nii')\n",
    "fibdir = fibdir.get_data()\n",
    "OD = nib.load(datadir + '/FIT_OD.nii')\n",
    "OD = OD.get_data()\n",
    "ISOVF = nib.load(datadir + '/FIT_ISOVF.nii')\n",
    "ISOVF = ISOVF.get_data()\n",
    "ICVF = nib.load(datadir + '/FIT_ICVF.nii')\n",
    "ICVF = ICVF.get_data()"
   ]
  },
  {
   "cell_type": "code",
   "execution_count": 5,
   "metadata": {},
   "outputs": [],
   "source": [
    "def cart2mu(xyz):\n",
    "    import numpy as np\n",
    "\n",
    "    shape = xyz.shape[:-1]\n",
    "    mu = np.zeros(np.r_[shape, 2])\n",
    "    r = np.linalg.norm(xyz, axis=-1)\n",
    "    mu[..., 0] = np.arccos(xyz[..., 2] / r)  # theta\n",
    "    mu[..., 1] = np.arctan2(xyz[..., 1], xyz[..., 0])\n",
    "    mu[r == 0] = 0, 0\n",
    "    return mu"
   ]
  },
  {
   "cell_type": "code",
   "execution_count": 6,
   "metadata": {},
   "outputs": [
    {
     "name": "stderr",
     "output_type": "stream",
     "text": [
      "/Users/paddyslator/anaconda/lib/python3.5/site-packages/ipykernel_launcher.py:7: RuntimeWarning: invalid value encountered in true_divide\n",
      "  import sys\n"
     ]
    }
   ],
   "source": [
    "#convert cartesian to polar \n",
    "fibdirpolar = cart2mu(fibdir)"
   ]
  },
  {
   "cell_type": "code",
   "execution_count": 7,
   "metadata": {},
   "outputs": [],
   "source": [
    "nvox = np.prod(np.shape(OD)[0:3])\n"
   ]
  },
  {
   "cell_type": "code",
   "execution_count": 8,
   "metadata": {},
   "outputs": [],
   "source": [
    "#put the data in voxel form\n",
    "muvox = np.reshape(fibdirpolar, (nvox, 2))\n",
    "ODvox = np.reshape(OD, (nvox))\n",
    "ISOVFvox = np.reshape(ISOVF, (nvox)) #ball?\n",
    "ICVFvox = np.reshape(ICVF, (nvox)) #stick?\n",
    "\n",
    "\n"
   ]
  },
  {
   "cell_type": "code",
   "execution_count": 9,
   "metadata": {},
   "outputs": [],
   "source": [
    "#put in the format that bayesian fit needs \n",
    "parameter_vector_lsq={}\n",
    "parameter_vector_lsq['SD1WatsonDistributed_1_SD1Watson_1_mu'] = muvox\n",
    "parameter_vector_lsq['SD1WatsonDistributed_1_SD1Watson_1_odi'] = ODvox\n",
    "parameter_vector_lsq['SD1WatsonDistributed_1_partial_volume_0'] = ICVFvox\n",
    "parameter_vector_lsq['partial_volume_0'] = ISOVFvox\n",
    "parameter_vector_lsq['partial_volume_1'] = 1 - ISOVFvox\n",
    "\n"
   ]
  },
  {
   "cell_type": "code",
   "execution_count": null,
   "metadata": {},
   "outputs": [],
   "source": []
  }
 ],
 "metadata": {
  "kernelspec": {
   "display_name": "Python 3",
   "language": "python",
   "name": "python3"
  },
  "language_info": {
   "codemirror_mode": {
    "name": "ipython",
    "version": 3
   },
   "file_extension": ".py",
   "mimetype": "text/x-python",
   "name": "python",
   "nbconvert_exporter": "python",
   "pygments_lexer": "ipython3",
   "version": "3.5.4"
  }
 },
 "nbformat": 4,
 "nbformat_minor": 2
}
